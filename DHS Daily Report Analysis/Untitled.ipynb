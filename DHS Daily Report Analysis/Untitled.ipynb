{
 "cells": [
  {
   "cell_type": "code",
   "execution_count": 1,
   "id": "bc00b917-fd3e-4ec5-96ba-63e49714325f",
   "metadata": {
    "tags": []
   },
   "outputs": [],
   "source": [
    "import numpy as np\n",
    "import pandas as pd\n",
    "import seaborn as sns\n",
    "import matplotlib.pyplot as plt"
   ]
  },
  {
   "cell_type": "code",
   "execution_count": 2,
   "id": "0343aa8f-9059-4544-a49d-2aa817cadd4a",
   "metadata": {
    "tags": []
   },
   "outputs": [],
   "source": [
    "df = pd.read_csv('DHS_Daily_Report_20250617.csv')"
   ]
  },
  {
   "cell_type": "code",
   "execution_count": 3,
   "id": "2cd99978-b5b6-4036-8b34-ebc6f6c88511",
   "metadata": {
    "tags": []
   },
   "outputs": [
    {
     "data": {
      "text/html": [
       "<div>\n",
       "<style scoped>\n",
       "    .dataframe tbody tr th:only-of-type {\n",
       "        vertical-align: middle;\n",
       "    }\n",
       "\n",
       "    .dataframe tbody tr th {\n",
       "        vertical-align: top;\n",
       "    }\n",
       "\n",
       "    .dataframe thead th {\n",
       "        text-align: right;\n",
       "    }\n",
       "</style>\n",
       "<table border=\"1\" class=\"dataframe\">\n",
       "  <thead>\n",
       "    <tr style=\"text-align: right;\">\n",
       "      <th></th>\n",
       "      <th>Date of Census</th>\n",
       "      <th>Total Adults in Shelter</th>\n",
       "      <th>Total Children in Shelter</th>\n",
       "      <th>Total Individuals in Shelter</th>\n",
       "      <th>Single Adult Men in Shelter</th>\n",
       "      <th>Single Adult Women in Shelter</th>\n",
       "      <th>Total Single Adults in Shelter</th>\n",
       "      <th>Families with Children in Shelter</th>\n",
       "      <th>Adults in Families with Children in Shelter</th>\n",
       "      <th>Children in Families with Children in Shelter</th>\n",
       "      <th>Total Individuals in Families with Children in Shelter</th>\n",
       "      <th>Adult Families in Shelter</th>\n",
       "      <th>Individuals in Adult Families in Shelter</th>\n",
       "    </tr>\n",
       "  </thead>\n",
       "  <tbody>\n",
       "    <tr>\n",
       "      <th>0</th>\n",
       "      <td>07/19/2023</td>\n",
       "      <td>53797</td>\n",
       "      <td>28209</td>\n",
       "      <td>82006</td>\n",
       "      <td>16905</td>\n",
       "      <td>4784</td>\n",
       "      <td>21689</td>\n",
       "      <td>16491</td>\n",
       "      <td>25913</td>\n",
       "      <td>28209</td>\n",
       "      <td>54122</td>\n",
       "      <td>2916</td>\n",
       "      <td>6195</td>\n",
       "    </tr>\n",
       "    <tr>\n",
       "      <th>1</th>\n",
       "      <td>07/20/2023</td>\n",
       "      <td>53891</td>\n",
       "      <td>28225</td>\n",
       "      <td>82116</td>\n",
       "      <td>16943</td>\n",
       "      <td>4794</td>\n",
       "      <td>21737</td>\n",
       "      <td>16513</td>\n",
       "      <td>25940</td>\n",
       "      <td>28225</td>\n",
       "      <td>54165</td>\n",
       "      <td>2925</td>\n",
       "      <td>6214</td>\n",
       "    </tr>\n",
       "    <tr>\n",
       "      <th>2</th>\n",
       "      <td>07/21/2023</td>\n",
       "      <td>53851</td>\n",
       "      <td>28270</td>\n",
       "      <td>82121</td>\n",
       "      <td>16962</td>\n",
       "      <td>4752</td>\n",
       "      <td>21714</td>\n",
       "      <td>16527</td>\n",
       "      <td>25953</td>\n",
       "      <td>28270</td>\n",
       "      <td>54223</td>\n",
       "      <td>2910</td>\n",
       "      <td>6184</td>\n",
       "    </tr>\n",
       "    <tr>\n",
       "      <th>3</th>\n",
       "      <td>07/22/2023</td>\n",
       "      <td>53762</td>\n",
       "      <td>28324</td>\n",
       "      <td>82086</td>\n",
       "      <td>16891</td>\n",
       "      <td>4713</td>\n",
       "      <td>21604</td>\n",
       "      <td>16544</td>\n",
       "      <td>25970</td>\n",
       "      <td>28324</td>\n",
       "      <td>54294</td>\n",
       "      <td>2912</td>\n",
       "      <td>6188</td>\n",
       "    </tr>\n",
       "    <tr>\n",
       "      <th>4</th>\n",
       "      <td>07/23/2023</td>\n",
       "      <td>53801</td>\n",
       "      <td>28269</td>\n",
       "      <td>82070</td>\n",
       "      <td>16971</td>\n",
       "      <td>4710</td>\n",
       "      <td>21681</td>\n",
       "      <td>16522</td>\n",
       "      <td>25948</td>\n",
       "      <td>28269</td>\n",
       "      <td>54217</td>\n",
       "      <td>2904</td>\n",
       "      <td>6172</td>\n",
       "    </tr>\n",
       "  </tbody>\n",
       "</table>\n",
       "</div>"
      ],
      "text/plain": [
       "  Date of Census  Total Adults in Shelter  Total Children in Shelter  \\\n",
       "0     07/19/2023                    53797                      28209   \n",
       "1     07/20/2023                    53891                      28225   \n",
       "2     07/21/2023                    53851                      28270   \n",
       "3     07/22/2023                    53762                      28324   \n",
       "4     07/23/2023                    53801                      28269   \n",
       "\n",
       "   Total Individuals in Shelter  Single Adult Men in Shelter  \\\n",
       "0                         82006                        16905   \n",
       "1                         82116                        16943   \n",
       "2                         82121                        16962   \n",
       "3                         82086                        16891   \n",
       "4                         82070                        16971   \n",
       "\n",
       "   Single Adult Women in Shelter  Total Single Adults in Shelter  \\\n",
       "0                           4784                           21689   \n",
       "1                           4794                           21737   \n",
       "2                           4752                           21714   \n",
       "3                           4713                           21604   \n",
       "4                           4710                           21681   \n",
       "\n",
       "   Families with Children in Shelter  \\\n",
       "0                              16491   \n",
       "1                              16513   \n",
       "2                              16527   \n",
       "3                              16544   \n",
       "4                              16522   \n",
       "\n",
       "   Adults in Families with Children in Shelter  \\\n",
       "0                                        25913   \n",
       "1                                        25940   \n",
       "2                                        25953   \n",
       "3                                        25970   \n",
       "4                                        25948   \n",
       "\n",
       "   Children in Families with Children in Shelter  \\\n",
       "0                                          28209   \n",
       "1                                          28225   \n",
       "2                                          28270   \n",
       "3                                          28324   \n",
       "4                                          28269   \n",
       "\n",
       "   Total Individuals in Families with Children in Shelter   \\\n",
       "0                                              54122         \n",
       "1                                              54165         \n",
       "2                                              54223         \n",
       "3                                              54294         \n",
       "4                                              54217         \n",
       "\n",
       "   Adult Families in Shelter  Individuals in Adult Families in Shelter  \n",
       "0                       2916                                      6195  \n",
       "1                       2925                                      6214  \n",
       "2                       2910                                      6184  \n",
       "3                       2912                                      6188  \n",
       "4                       2904                                      6172  "
      ]
     },
     "execution_count": 3,
     "metadata": {},
     "output_type": "execute_result"
    }
   ],
   "source": [
    "df.head()"
   ]
  },
  {
   "cell_type": "code",
   "execution_count": 4,
   "id": "c47d1c94-0532-45d4-b7af-05e991befbbf",
   "metadata": {
    "tags": []
   },
   "outputs": [
    {
     "data": {
      "text/html": [
       "<div>\n",
       "<style scoped>\n",
       "    .dataframe tbody tr th:only-of-type {\n",
       "        vertical-align: middle;\n",
       "    }\n",
       "\n",
       "    .dataframe tbody tr th {\n",
       "        vertical-align: top;\n",
       "    }\n",
       "\n",
       "    .dataframe thead th {\n",
       "        text-align: right;\n",
       "    }\n",
       "</style>\n",
       "<table border=\"1\" class=\"dataframe\">\n",
       "  <thead>\n",
       "    <tr style=\"text-align: right;\">\n",
       "      <th></th>\n",
       "      <th>Date of Census</th>\n",
       "      <th>Total Adults in Shelter</th>\n",
       "      <th>Total Children in Shelter</th>\n",
       "      <th>Total Individuals in Shelter</th>\n",
       "      <th>Single Adult Men in Shelter</th>\n",
       "      <th>Single Adult Women in Shelter</th>\n",
       "      <th>Total Single Adults in Shelter</th>\n",
       "      <th>Families with Children in Shelter</th>\n",
       "      <th>Adults in Families with Children in Shelter</th>\n",
       "      <th>Children in Families with Children in Shelter</th>\n",
       "      <th>Total Individuals in Families with Children in Shelter</th>\n",
       "      <th>Adult Families in Shelter</th>\n",
       "      <th>Individuals in Adult Families in Shelter</th>\n",
       "    </tr>\n",
       "  </thead>\n",
       "  <tbody>\n",
       "    <tr>\n",
       "      <th>1563</th>\n",
       "      <td>06/11/2025</td>\n",
       "      <td>54564</td>\n",
       "      <td>31533</td>\n",
       "      <td>86097</td>\n",
       "      <td>16299</td>\n",
       "      <td>6106</td>\n",
       "      <td>22405</td>\n",
       "      <td>18221</td>\n",
       "      <td>27367</td>\n",
       "      <td>31533</td>\n",
       "      <td>58900</td>\n",
       "      <td>2219</td>\n",
       "      <td>4792</td>\n",
       "    </tr>\n",
       "    <tr>\n",
       "      <th>1564</th>\n",
       "      <td>06/12/2025</td>\n",
       "      <td>54577</td>\n",
       "      <td>31519</td>\n",
       "      <td>86096</td>\n",
       "      <td>16314</td>\n",
       "      <td>6119</td>\n",
       "      <td>22433</td>\n",
       "      <td>18207</td>\n",
       "      <td>27341</td>\n",
       "      <td>31519</td>\n",
       "      <td>58860</td>\n",
       "      <td>2226</td>\n",
       "      <td>4803</td>\n",
       "    </tr>\n",
       "    <tr>\n",
       "      <th>1565</th>\n",
       "      <td>06/13/2025</td>\n",
       "      <td>54494</td>\n",
       "      <td>31450</td>\n",
       "      <td>85944</td>\n",
       "      <td>16223</td>\n",
       "      <td>6116</td>\n",
       "      <td>22339</td>\n",
       "      <td>18178</td>\n",
       "      <td>27318</td>\n",
       "      <td>31450</td>\n",
       "      <td>58768</td>\n",
       "      <td>2243</td>\n",
       "      <td>4837</td>\n",
       "    </tr>\n",
       "    <tr>\n",
       "      <th>1566</th>\n",
       "      <td>06/14/2025</td>\n",
       "      <td>54542</td>\n",
       "      <td>31482</td>\n",
       "      <td>86024</td>\n",
       "      <td>16250</td>\n",
       "      <td>6143</td>\n",
       "      <td>22393</td>\n",
       "      <td>18175</td>\n",
       "      <td>27312</td>\n",
       "      <td>31482</td>\n",
       "      <td>58794</td>\n",
       "      <td>2242</td>\n",
       "      <td>4837</td>\n",
       "    </tr>\n",
       "    <tr>\n",
       "      <th>1567</th>\n",
       "      <td>06/15/2025</td>\n",
       "      <td>54611</td>\n",
       "      <td>31488</td>\n",
       "      <td>86099</td>\n",
       "      <td>16312</td>\n",
       "      <td>6144</td>\n",
       "      <td>22456</td>\n",
       "      <td>18174</td>\n",
       "      <td>27314</td>\n",
       "      <td>31488</td>\n",
       "      <td>58802</td>\n",
       "      <td>2244</td>\n",
       "      <td>4841</td>\n",
       "    </tr>\n",
       "  </tbody>\n",
       "</table>\n",
       "</div>"
      ],
      "text/plain": [
       "     Date of Census  Total Adults in Shelter  Total Children in Shelter  \\\n",
       "1563     06/11/2025                    54564                      31533   \n",
       "1564     06/12/2025                    54577                      31519   \n",
       "1565     06/13/2025                    54494                      31450   \n",
       "1566     06/14/2025                    54542                      31482   \n",
       "1567     06/15/2025                    54611                      31488   \n",
       "\n",
       "      Total Individuals in Shelter  Single Adult Men in Shelter  \\\n",
       "1563                         86097                        16299   \n",
       "1564                         86096                        16314   \n",
       "1565                         85944                        16223   \n",
       "1566                         86024                        16250   \n",
       "1567                         86099                        16312   \n",
       "\n",
       "      Single Adult Women in Shelter  Total Single Adults in Shelter  \\\n",
       "1563                           6106                           22405   \n",
       "1564                           6119                           22433   \n",
       "1565                           6116                           22339   \n",
       "1566                           6143                           22393   \n",
       "1567                           6144                           22456   \n",
       "\n",
       "      Families with Children in Shelter  \\\n",
       "1563                              18221   \n",
       "1564                              18207   \n",
       "1565                              18178   \n",
       "1566                              18175   \n",
       "1567                              18174   \n",
       "\n",
       "      Adults in Families with Children in Shelter  \\\n",
       "1563                                        27367   \n",
       "1564                                        27341   \n",
       "1565                                        27318   \n",
       "1566                                        27312   \n",
       "1567                                        27314   \n",
       "\n",
       "      Children in Families with Children in Shelter  \\\n",
       "1563                                          31533   \n",
       "1564                                          31519   \n",
       "1565                                          31450   \n",
       "1566                                          31482   \n",
       "1567                                          31488   \n",
       "\n",
       "      Total Individuals in Families with Children in Shelter   \\\n",
       "1563                                              58900         \n",
       "1564                                              58860         \n",
       "1565                                              58768         \n",
       "1566                                              58794         \n",
       "1567                                              58802         \n",
       "\n",
       "      Adult Families in Shelter  Individuals in Adult Families in Shelter  \n",
       "1563                       2219                                      4792  \n",
       "1564                       2226                                      4803  \n",
       "1565                       2243                                      4837  \n",
       "1566                       2242                                      4837  \n",
       "1567                       2244                                      4841  "
      ]
     },
     "execution_count": 4,
     "metadata": {},
     "output_type": "execute_result"
    }
   ],
   "source": [
    "df.tail()"
   ]
  },
  {
   "cell_type": "code",
   "execution_count": 5,
   "id": "7af6818f-7ca1-4287-949e-10abd4c878a3",
   "metadata": {
    "tags": []
   },
   "outputs": [
    {
     "data": {
      "text/plain": [
       "(1568, 13)"
      ]
     },
     "execution_count": 5,
     "metadata": {},
     "output_type": "execute_result"
    }
   ],
   "source": [
    "df.shape"
   ]
  },
  {
   "cell_type": "markdown",
   "id": "cc789582-f28f-4a2c-b38c-ebef741307a1",
   "metadata": {},
   "source": [
    "> There are 1,568 rows (entries) and 13 columns."
   ]
  },
  {
   "cell_type": "code",
   "execution_count": 6,
   "id": "5655b7c9-f7e4-45cb-a1fa-40fb0b310ea4",
   "metadata": {
    "tags": []
   },
   "outputs": [
    {
     "data": {
      "text/plain": [
       "Date of Census                                             object\n",
       "Total Adults in Shelter                                     int64\n",
       "Total Children in Shelter                                   int64\n",
       "Total Individuals in Shelter                                int64\n",
       "Single Adult Men in Shelter                                 int64\n",
       "Single Adult Women in Shelter                               int64\n",
       "Total Single Adults in Shelter                              int64\n",
       "Families with Children in Shelter                           int64\n",
       "Adults in Families with Children in Shelter                 int64\n",
       "Children in Families with Children in Shelter               int64\n",
       "Total Individuals in Families with Children in Shelter      int64\n",
       "Adult Families in Shelter                                   int64\n",
       "Individuals in Adult Families in Shelter                    int64\n",
       "dtype: object"
      ]
     },
     "execution_count": 6,
     "metadata": {},
     "output_type": "execute_result"
    }
   ],
   "source": [
    "df.dtypes"
   ]
  },
  {
   "cell_type": "code",
   "execution_count": 7,
   "id": "415af727-0ed0-4a12-a802-a38b10cfc1e8",
   "metadata": {
    "tags": []
   },
   "outputs": [
    {
     "data": {
      "text/plain": [
       "Date of Census                                             0\n",
       "Total Adults in Shelter                                    0\n",
       "Total Children in Shelter                                  0\n",
       "Total Individuals in Shelter                               0\n",
       "Single Adult Men in Shelter                                0\n",
       "Single Adult Women in Shelter                              0\n",
       "Total Single Adults in Shelter                             0\n",
       "Families with Children in Shelter                          0\n",
       "Adults in Families with Children in Shelter                0\n",
       "Children in Families with Children in Shelter              0\n",
       "Total Individuals in Families with Children in Shelter     0\n",
       "Adult Families in Shelter                                  0\n",
       "Individuals in Adult Families in Shelter                   0\n",
       "dtype: int64"
      ]
     },
     "execution_count": 7,
     "metadata": {},
     "output_type": "execute_result"
    }
   ],
   "source": [
    "df.isnull().sum()"
   ]
  },
  {
   "cell_type": "markdown",
   "id": "a3437389-6129-4a77-be97-e1ecb0338209",
   "metadata": {
    "tags": []
   },
   "source": [
    "> There are no null (missing) values."
   ]
  },
  {
   "cell_type": "code",
   "execution_count": 8,
   "id": "0c2c9f49-2bdd-4fec-917a-958b5c3e4559",
   "metadata": {
    "tags": []
   },
   "outputs": [
    {
     "data": {
      "text/html": [
       "<div>\n",
       "<style scoped>\n",
       "    .dataframe tbody tr th:only-of-type {\n",
       "        vertical-align: middle;\n",
       "    }\n",
       "\n",
       "    .dataframe tbody tr th {\n",
       "        vertical-align: top;\n",
       "    }\n",
       "\n",
       "    .dataframe thead th {\n",
       "        text-align: right;\n",
       "    }\n",
       "</style>\n",
       "<table border=\"1\" class=\"dataframe\">\n",
       "  <thead>\n",
       "    <tr style=\"text-align: right;\">\n",
       "      <th></th>\n",
       "      <th>Total Adults in Shelter</th>\n",
       "      <th>Total Children in Shelter</th>\n",
       "      <th>Total Individuals in Shelter</th>\n",
       "      <th>Single Adult Men in Shelter</th>\n",
       "      <th>Single Adult Women in Shelter</th>\n",
       "      <th>Total Single Adults in Shelter</th>\n",
       "      <th>Families with Children in Shelter</th>\n",
       "      <th>Adults in Families with Children in Shelter</th>\n",
       "      <th>Children in Families with Children in Shelter</th>\n",
       "      <th>Total Individuals in Families with Children in Shelter</th>\n",
       "      <th>Adult Families in Shelter</th>\n",
       "      <th>Individuals in Adult Families in Shelter</th>\n",
       "    </tr>\n",
       "  </thead>\n",
       "  <tbody>\n",
       "    <tr>\n",
       "      <th>count</th>\n",
       "      <td>1568.000000</td>\n",
       "      <td>1568.000000</td>\n",
       "      <td>1568.000000</td>\n",
       "      <td>1568.000000</td>\n",
       "      <td>1568.000000</td>\n",
       "      <td>1568.000000</td>\n",
       "      <td>1568.000000</td>\n",
       "      <td>1568.000000</td>\n",
       "      <td>1568.000000</td>\n",
       "      <td>1568.000000</td>\n",
       "      <td>1568.000000</td>\n",
       "      <td>1568.000000</td>\n",
       "    </tr>\n",
       "    <tr>\n",
       "      <th>mean</th>\n",
       "      <td>44903.059311</td>\n",
       "      <td>24382.614158</td>\n",
       "      <td>69285.673469</td>\n",
       "      <td>14775.533163</td>\n",
       "      <td>4686.292730</td>\n",
       "      <td>19461.825893</td>\n",
       "      <td>14199.456633</td>\n",
       "      <td>21184.005740</td>\n",
       "      <td>24382.614158</td>\n",
       "      <td>45566.619898</td>\n",
       "      <td>2002.765944</td>\n",
       "      <td>4257.227679</td>\n",
       "    </tr>\n",
       "    <tr>\n",
       "      <th>std</th>\n",
       "      <td>10326.512552</td>\n",
       "      <td>7736.196329</td>\n",
       "      <td>17949.143691</td>\n",
       "      <td>1723.470207</td>\n",
       "      <td>543.688902</td>\n",
       "      <td>2136.743701</td>\n",
       "      <td>4534.110081</td>\n",
       "      <td>7831.602556</td>\n",
       "      <td>7736.196329</td>\n",
       "      <td>15556.444213</td>\n",
       "      <td>458.441428</td>\n",
       "      <td>984.574718</td>\n",
       "    </tr>\n",
       "    <tr>\n",
       "      <th>min</th>\n",
       "      <td>30312.000000</td>\n",
       "      <td>14274.000000</td>\n",
       "      <td>44586.000000</td>\n",
       "      <td>11971.000000</td>\n",
       "      <td>3801.000000</td>\n",
       "      <td>15985.000000</td>\n",
       "      <td>8180.000000</td>\n",
       "      <td>10759.000000</td>\n",
       "      <td>14274.000000</td>\n",
       "      <td>25039.000000</td>\n",
       "      <td>1385.000000</td>\n",
       "      <td>2904.000000</td>\n",
       "    </tr>\n",
       "    <tr>\n",
       "      <th>25%</th>\n",
       "      <td>32466.000000</td>\n",
       "      <td>15370.250000</td>\n",
       "      <td>47886.250000</td>\n",
       "      <td>12626.000000</td>\n",
       "      <td>4161.000000</td>\n",
       "      <td>16735.750000</td>\n",
       "      <td>8908.750000</td>\n",
       "      <td>11848.500000</td>\n",
       "      <td>15370.250000</td>\n",
       "      <td>27229.500000</td>\n",
       "      <td>1635.750000</td>\n",
       "      <td>3435.750000</td>\n",
       "    </tr>\n",
       "    <tr>\n",
       "      <th>50%</th>\n",
       "      <td>50938.000000</td>\n",
       "      <td>24562.000000</td>\n",
       "      <td>75496.500000</td>\n",
       "      <td>15272.500000</td>\n",
       "      <td>4596.000000</td>\n",
       "      <td>20068.000000</td>\n",
       "      <td>14428.500000</td>\n",
       "      <td>22399.000000</td>\n",
       "      <td>24562.000000</td>\n",
       "      <td>46957.500000</td>\n",
       "      <td>1890.000000</td>\n",
       "      <td>4055.500000</td>\n",
       "    </tr>\n",
       "    <tr>\n",
       "      <th>75%</th>\n",
       "      <td>54035.500000</td>\n",
       "      <td>32499.000000</td>\n",
       "      <td>86458.250000</td>\n",
       "      <td>16118.500000</td>\n",
       "      <td>5062.000000</td>\n",
       "      <td>21354.750000</td>\n",
       "      <td>18927.000000</td>\n",
       "      <td>29020.000000</td>\n",
       "      <td>32499.000000</td>\n",
       "      <td>61602.500000</td>\n",
       "      <td>2275.000000</td>\n",
       "      <td>4849.750000</td>\n",
       "    </tr>\n",
       "    <tr>\n",
       "      <th>max</th>\n",
       "      <td>56436.000000</td>\n",
       "      <td>33468.000000</td>\n",
       "      <td>89558.000000</td>\n",
       "      <td>18533.000000</td>\n",
       "      <td>6144.000000</td>\n",
       "      <td>23161.000000</td>\n",
       "      <td>19641.000000</td>\n",
       "      <td>30681.000000</td>\n",
       "      <td>33468.000000</td>\n",
       "      <td>64112.000000</td>\n",
       "      <td>3101.000000</td>\n",
       "      <td>6569.000000</td>\n",
       "    </tr>\n",
       "  </tbody>\n",
       "</table>\n",
       "</div>"
      ],
      "text/plain": [
       "       Total Adults in Shelter  Total Children in Shelter  \\\n",
       "count              1568.000000                1568.000000   \n",
       "mean              44903.059311               24382.614158   \n",
       "std               10326.512552                7736.196329   \n",
       "min               30312.000000               14274.000000   \n",
       "25%               32466.000000               15370.250000   \n",
       "50%               50938.000000               24562.000000   \n",
       "75%               54035.500000               32499.000000   \n",
       "max               56436.000000               33468.000000   \n",
       "\n",
       "       Total Individuals in Shelter  Single Adult Men in Shelter  \\\n",
       "count                   1568.000000                  1568.000000   \n",
       "mean                   69285.673469                 14775.533163   \n",
       "std                    17949.143691                  1723.470207   \n",
       "min                    44586.000000                 11971.000000   \n",
       "25%                    47886.250000                 12626.000000   \n",
       "50%                    75496.500000                 15272.500000   \n",
       "75%                    86458.250000                 16118.500000   \n",
       "max                    89558.000000                 18533.000000   \n",
       "\n",
       "       Single Adult Women in Shelter  Total Single Adults in Shelter  \\\n",
       "count                    1568.000000                     1568.000000   \n",
       "mean                     4686.292730                    19461.825893   \n",
       "std                       543.688902                     2136.743701   \n",
       "min                      3801.000000                    15985.000000   \n",
       "25%                      4161.000000                    16735.750000   \n",
       "50%                      4596.000000                    20068.000000   \n",
       "75%                      5062.000000                    21354.750000   \n",
       "max                      6144.000000                    23161.000000   \n",
       "\n",
       "       Families with Children in Shelter  \\\n",
       "count                        1568.000000   \n",
       "mean                        14199.456633   \n",
       "std                          4534.110081   \n",
       "min                          8180.000000   \n",
       "25%                          8908.750000   \n",
       "50%                         14428.500000   \n",
       "75%                         18927.000000   \n",
       "max                         19641.000000   \n",
       "\n",
       "       Adults in Families with Children in Shelter  \\\n",
       "count                                  1568.000000   \n",
       "mean                                  21184.005740   \n",
       "std                                    7831.602556   \n",
       "min                                   10759.000000   \n",
       "25%                                   11848.500000   \n",
       "50%                                   22399.000000   \n",
       "75%                                   29020.000000   \n",
       "max                                   30681.000000   \n",
       "\n",
       "       Children in Families with Children in Shelter  \\\n",
       "count                                    1568.000000   \n",
       "mean                                    24382.614158   \n",
       "std                                      7736.196329   \n",
       "min                                     14274.000000   \n",
       "25%                                     15370.250000   \n",
       "50%                                     24562.000000   \n",
       "75%                                     32499.000000   \n",
       "max                                     33468.000000   \n",
       "\n",
       "       Total Individuals in Families with Children in Shelter   \\\n",
       "count                                        1568.000000         \n",
       "mean                                        45566.619898         \n",
       "std                                         15556.444213         \n",
       "min                                         25039.000000         \n",
       "25%                                         27229.500000         \n",
       "50%                                         46957.500000         \n",
       "75%                                         61602.500000         \n",
       "max                                         64112.000000         \n",
       "\n",
       "       Adult Families in Shelter  Individuals in Adult Families in Shelter  \n",
       "count                1568.000000                               1568.000000  \n",
       "mean                 2002.765944                               4257.227679  \n",
       "std                   458.441428                                984.574718  \n",
       "min                  1385.000000                               2904.000000  \n",
       "25%                  1635.750000                               3435.750000  \n",
       "50%                  1890.000000                               4055.500000  \n",
       "75%                  2275.000000                               4849.750000  \n",
       "max                  3101.000000                               6569.000000  "
      ]
     },
     "execution_count": 8,
     "metadata": {},
     "output_type": "execute_result"
    }
   ],
   "source": [
    "df.describe()"
   ]
  },
  {
   "cell_type": "code",
   "execution_count": 9,
   "id": "e30b9ce3-b63e-443b-9d8c-fbad11f9015c",
   "metadata": {
    "tags": []
   },
   "outputs": [
    {
     "name": "stdout",
     "output_type": "stream",
     "text": [
      "<class 'pandas.core.frame.DataFrame'>\n",
      "RangeIndex: 1568 entries, 0 to 1567\n",
      "Data columns (total 13 columns):\n",
      " #   Column                                                   Non-Null Count  Dtype \n",
      "---  ------                                                   --------------  ----- \n",
      " 0   Date of Census                                           1568 non-null   object\n",
      " 1   Total Adults in Shelter                                  1568 non-null   int64 \n",
      " 2   Total Children in Shelter                                1568 non-null   int64 \n",
      " 3   Total Individuals in Shelter                             1568 non-null   int64 \n",
      " 4   Single Adult Men in Shelter                              1568 non-null   int64 \n",
      " 5   Single Adult Women in Shelter                            1568 non-null   int64 \n",
      " 6   Total Single Adults in Shelter                           1568 non-null   int64 \n",
      " 7   Families with Children in Shelter                        1568 non-null   int64 \n",
      " 8   Adults in Families with Children in Shelter              1568 non-null   int64 \n",
      " 9   Children in Families with Children in Shelter            1568 non-null   int64 \n",
      " 10  Total Individuals in Families with Children in Shelter   1568 non-null   int64 \n",
      " 11  Adult Families in Shelter                                1568 non-null   int64 \n",
      " 12  Individuals in Adult Families in Shelter                 1568 non-null   int64 \n",
      "dtypes: int64(12), object(1)\n",
      "memory usage: 159.4+ KB\n"
     ]
    }
   ],
   "source": [
    "df.info()"
   ]
  },
  {
   "cell_type": "markdown",
   "id": "5fe829b1-59b4-4a42-ad5a-41c33902001e",
   "metadata": {},
   "source": [
    "## Feature Engineering"
   ]
  },
  {
   "cell_type": "code",
   "execution_count": 10,
   "id": "2726cc32-b9ed-45e7-aecb-79480d1a64c1",
   "metadata": {
    "tags": []
   },
   "outputs": [],
   "source": [
    "# Lets add a column for day of week, month and year"
   ]
  },
  {
   "cell_type": "code",
   "execution_count": 11,
   "id": "6659c13c-5df1-4866-ad31-c7715398e4a4",
   "metadata": {
    "tags": []
   },
   "outputs": [],
   "source": [
    "# Convert the 'date' column to datetime format\n",
    "df['Date of Census'] = pd.to_datetime(df['Date of Census'])"
   ]
  },
  {
   "cell_type": "code",
   "execution_count": 12,
   "id": "2a6e9a9a-c340-4da4-9582-62bc71d46704",
   "metadata": {
    "tags": []
   },
   "outputs": [],
   "source": [
    "# Extract the day of the week\n",
    "df['Day of Week'] = df['Date of Census'].dt.day_name()"
   ]
  },
  {
   "cell_type": "code",
   "execution_count": 13,
   "id": "3db6fcde-fc7d-42b1-bbce-bdb32b37967e",
   "metadata": {
    "tags": []
   },
   "outputs": [],
   "source": [
    "# Extract the month\n",
    "df['Month'] = df['Date of Census'].dt.month_name()"
   ]
  },
  {
   "cell_type": "code",
   "execution_count": 14,
   "id": "b8692a9e-32aa-44e0-beb4-04a186a92377",
   "metadata": {
    "tags": []
   },
   "outputs": [],
   "source": [
    "# Extract the year\n",
    "df['Year'] = df['Date of Census'].dt.year"
   ]
  },
  {
   "cell_type": "code",
   "execution_count": 15,
   "id": "a7894f22-89c8-4de8-860e-9497c81a7ff6",
   "metadata": {
    "tags": []
   },
   "outputs": [
    {
     "data": {
      "text/html": [
       "<div>\n",
       "<style scoped>\n",
       "    .dataframe tbody tr th:only-of-type {\n",
       "        vertical-align: middle;\n",
       "    }\n",
       "\n",
       "    .dataframe tbody tr th {\n",
       "        vertical-align: top;\n",
       "    }\n",
       "\n",
       "    .dataframe thead th {\n",
       "        text-align: right;\n",
       "    }\n",
       "</style>\n",
       "<table border=\"1\" class=\"dataframe\">\n",
       "  <thead>\n",
       "    <tr style=\"text-align: right;\">\n",
       "      <th></th>\n",
       "      <th>Date of Census</th>\n",
       "      <th>Total Adults in Shelter</th>\n",
       "      <th>Total Children in Shelter</th>\n",
       "      <th>Total Individuals in Shelter</th>\n",
       "      <th>Single Adult Men in Shelter</th>\n",
       "      <th>Single Adult Women in Shelter</th>\n",
       "      <th>Total Single Adults in Shelter</th>\n",
       "      <th>Families with Children in Shelter</th>\n",
       "      <th>Adults in Families with Children in Shelter</th>\n",
       "      <th>Children in Families with Children in Shelter</th>\n",
       "      <th>Total Individuals in Families with Children in Shelter</th>\n",
       "      <th>Adult Families in Shelter</th>\n",
       "      <th>Individuals in Adult Families in Shelter</th>\n",
       "      <th>Day of Week</th>\n",
       "      <th>Month</th>\n",
       "      <th>Year</th>\n",
       "    </tr>\n",
       "  </thead>\n",
       "  <tbody>\n",
       "    <tr>\n",
       "      <th>0</th>\n",
       "      <td>2023-07-19</td>\n",
       "      <td>53797</td>\n",
       "      <td>28209</td>\n",
       "      <td>82006</td>\n",
       "      <td>16905</td>\n",
       "      <td>4784</td>\n",
       "      <td>21689</td>\n",
       "      <td>16491</td>\n",
       "      <td>25913</td>\n",
       "      <td>28209</td>\n",
       "      <td>54122</td>\n",
       "      <td>2916</td>\n",
       "      <td>6195</td>\n",
       "      <td>Wednesday</td>\n",
       "      <td>July</td>\n",
       "      <td>2023</td>\n",
       "    </tr>\n",
       "    <tr>\n",
       "      <th>1</th>\n",
       "      <td>2023-07-20</td>\n",
       "      <td>53891</td>\n",
       "      <td>28225</td>\n",
       "      <td>82116</td>\n",
       "      <td>16943</td>\n",
       "      <td>4794</td>\n",
       "      <td>21737</td>\n",
       "      <td>16513</td>\n",
       "      <td>25940</td>\n",
       "      <td>28225</td>\n",
       "      <td>54165</td>\n",
       "      <td>2925</td>\n",
       "      <td>6214</td>\n",
       "      <td>Thursday</td>\n",
       "      <td>July</td>\n",
       "      <td>2023</td>\n",
       "    </tr>\n",
       "    <tr>\n",
       "      <th>2</th>\n",
       "      <td>2023-07-21</td>\n",
       "      <td>53851</td>\n",
       "      <td>28270</td>\n",
       "      <td>82121</td>\n",
       "      <td>16962</td>\n",
       "      <td>4752</td>\n",
       "      <td>21714</td>\n",
       "      <td>16527</td>\n",
       "      <td>25953</td>\n",
       "      <td>28270</td>\n",
       "      <td>54223</td>\n",
       "      <td>2910</td>\n",
       "      <td>6184</td>\n",
       "      <td>Friday</td>\n",
       "      <td>July</td>\n",
       "      <td>2023</td>\n",
       "    </tr>\n",
       "    <tr>\n",
       "      <th>3</th>\n",
       "      <td>2023-07-22</td>\n",
       "      <td>53762</td>\n",
       "      <td>28324</td>\n",
       "      <td>82086</td>\n",
       "      <td>16891</td>\n",
       "      <td>4713</td>\n",
       "      <td>21604</td>\n",
       "      <td>16544</td>\n",
       "      <td>25970</td>\n",
       "      <td>28324</td>\n",
       "      <td>54294</td>\n",
       "      <td>2912</td>\n",
       "      <td>6188</td>\n",
       "      <td>Saturday</td>\n",
       "      <td>July</td>\n",
       "      <td>2023</td>\n",
       "    </tr>\n",
       "    <tr>\n",
       "      <th>4</th>\n",
       "      <td>2023-07-23</td>\n",
       "      <td>53801</td>\n",
       "      <td>28269</td>\n",
       "      <td>82070</td>\n",
       "      <td>16971</td>\n",
       "      <td>4710</td>\n",
       "      <td>21681</td>\n",
       "      <td>16522</td>\n",
       "      <td>25948</td>\n",
       "      <td>28269</td>\n",
       "      <td>54217</td>\n",
       "      <td>2904</td>\n",
       "      <td>6172</td>\n",
       "      <td>Sunday</td>\n",
       "      <td>July</td>\n",
       "      <td>2023</td>\n",
       "    </tr>\n",
       "  </tbody>\n",
       "</table>\n",
       "</div>"
      ],
      "text/plain": [
       "  Date of Census  Total Adults in Shelter  Total Children in Shelter  \\\n",
       "0     2023-07-19                    53797                      28209   \n",
       "1     2023-07-20                    53891                      28225   \n",
       "2     2023-07-21                    53851                      28270   \n",
       "3     2023-07-22                    53762                      28324   \n",
       "4     2023-07-23                    53801                      28269   \n",
       "\n",
       "   Total Individuals in Shelter  Single Adult Men in Shelter  \\\n",
       "0                         82006                        16905   \n",
       "1                         82116                        16943   \n",
       "2                         82121                        16962   \n",
       "3                         82086                        16891   \n",
       "4                         82070                        16971   \n",
       "\n",
       "   Single Adult Women in Shelter  Total Single Adults in Shelter  \\\n",
       "0                           4784                           21689   \n",
       "1                           4794                           21737   \n",
       "2                           4752                           21714   \n",
       "3                           4713                           21604   \n",
       "4                           4710                           21681   \n",
       "\n",
       "   Families with Children in Shelter  \\\n",
       "0                              16491   \n",
       "1                              16513   \n",
       "2                              16527   \n",
       "3                              16544   \n",
       "4                              16522   \n",
       "\n",
       "   Adults in Families with Children in Shelter  \\\n",
       "0                                        25913   \n",
       "1                                        25940   \n",
       "2                                        25953   \n",
       "3                                        25970   \n",
       "4                                        25948   \n",
       "\n",
       "   Children in Families with Children in Shelter  \\\n",
       "0                                          28209   \n",
       "1                                          28225   \n",
       "2                                          28270   \n",
       "3                                          28324   \n",
       "4                                          28269   \n",
       "\n",
       "   Total Individuals in Families with Children in Shelter   \\\n",
       "0                                              54122         \n",
       "1                                              54165         \n",
       "2                                              54223         \n",
       "3                                              54294         \n",
       "4                                              54217         \n",
       "\n",
       "   Adult Families in Shelter  Individuals in Adult Families in Shelter  \\\n",
       "0                       2916                                      6195   \n",
       "1                       2925                                      6214   \n",
       "2                       2910                                      6184   \n",
       "3                       2912                                      6188   \n",
       "4                       2904                                      6172   \n",
       "\n",
       "  Day of Week Month  Year  \n",
       "0   Wednesday  July  2023  \n",
       "1    Thursday  July  2023  \n",
       "2      Friday  July  2023  \n",
       "3    Saturday  July  2023  \n",
       "4      Sunday  July  2023  "
      ]
     },
     "execution_count": 15,
     "metadata": {},
     "output_type": "execute_result"
    }
   ],
   "source": [
    "df.head()"
   ]
  },
  {
   "cell_type": "code",
   "execution_count": 16,
   "id": "5ebbea89-f89f-4cd4-afe0-a2770e5ddf2b",
   "metadata": {
    "tags": []
   },
   "outputs": [
    {
     "data": {
      "text/html": [
       "<div>\n",
       "<style scoped>\n",
       "    .dataframe tbody tr th:only-of-type {\n",
       "        vertical-align: middle;\n",
       "    }\n",
       "\n",
       "    .dataframe tbody tr th {\n",
       "        vertical-align: top;\n",
       "    }\n",
       "\n",
       "    .dataframe thead th {\n",
       "        text-align: right;\n",
       "    }\n",
       "</style>\n",
       "<table border=\"1\" class=\"dataframe\">\n",
       "  <thead>\n",
       "    <tr style=\"text-align: right;\">\n",
       "      <th></th>\n",
       "      <th>Date of Census</th>\n",
       "      <th>Total Adults in Shelter</th>\n",
       "      <th>Total Children in Shelter</th>\n",
       "      <th>Total Individuals in Shelter</th>\n",
       "      <th>Single Adult Men in Shelter</th>\n",
       "      <th>Single Adult Women in Shelter</th>\n",
       "      <th>Total Single Adults in Shelter</th>\n",
       "      <th>Families with Children in Shelter</th>\n",
       "      <th>Adults in Families with Children in Shelter</th>\n",
       "      <th>Children in Families with Children in Shelter</th>\n",
       "      <th>Total Individuals in Families with Children in Shelter</th>\n",
       "      <th>Adult Families in Shelter</th>\n",
       "      <th>Individuals in Adult Families in Shelter</th>\n",
       "      <th>Day of Week</th>\n",
       "      <th>Month</th>\n",
       "      <th>Year</th>\n",
       "    </tr>\n",
       "  </thead>\n",
       "  <tbody>\n",
       "    <tr>\n",
       "      <th>1563</th>\n",
       "      <td>2025-06-11</td>\n",
       "      <td>54564</td>\n",
       "      <td>31533</td>\n",
       "      <td>86097</td>\n",
       "      <td>16299</td>\n",
       "      <td>6106</td>\n",
       "      <td>22405</td>\n",
       "      <td>18221</td>\n",
       "      <td>27367</td>\n",
       "      <td>31533</td>\n",
       "      <td>58900</td>\n",
       "      <td>2219</td>\n",
       "      <td>4792</td>\n",
       "      <td>Wednesday</td>\n",
       "      <td>June</td>\n",
       "      <td>2025</td>\n",
       "    </tr>\n",
       "    <tr>\n",
       "      <th>1564</th>\n",
       "      <td>2025-06-12</td>\n",
       "      <td>54577</td>\n",
       "      <td>31519</td>\n",
       "      <td>86096</td>\n",
       "      <td>16314</td>\n",
       "      <td>6119</td>\n",
       "      <td>22433</td>\n",
       "      <td>18207</td>\n",
       "      <td>27341</td>\n",
       "      <td>31519</td>\n",
       "      <td>58860</td>\n",
       "      <td>2226</td>\n",
       "      <td>4803</td>\n",
       "      <td>Thursday</td>\n",
       "      <td>June</td>\n",
       "      <td>2025</td>\n",
       "    </tr>\n",
       "    <tr>\n",
       "      <th>1565</th>\n",
       "      <td>2025-06-13</td>\n",
       "      <td>54494</td>\n",
       "      <td>31450</td>\n",
       "      <td>85944</td>\n",
       "      <td>16223</td>\n",
       "      <td>6116</td>\n",
       "      <td>22339</td>\n",
       "      <td>18178</td>\n",
       "      <td>27318</td>\n",
       "      <td>31450</td>\n",
       "      <td>58768</td>\n",
       "      <td>2243</td>\n",
       "      <td>4837</td>\n",
       "      <td>Friday</td>\n",
       "      <td>June</td>\n",
       "      <td>2025</td>\n",
       "    </tr>\n",
       "    <tr>\n",
       "      <th>1566</th>\n",
       "      <td>2025-06-14</td>\n",
       "      <td>54542</td>\n",
       "      <td>31482</td>\n",
       "      <td>86024</td>\n",
       "      <td>16250</td>\n",
       "      <td>6143</td>\n",
       "      <td>22393</td>\n",
       "      <td>18175</td>\n",
       "      <td>27312</td>\n",
       "      <td>31482</td>\n",
       "      <td>58794</td>\n",
       "      <td>2242</td>\n",
       "      <td>4837</td>\n",
       "      <td>Saturday</td>\n",
       "      <td>June</td>\n",
       "      <td>2025</td>\n",
       "    </tr>\n",
       "    <tr>\n",
       "      <th>1567</th>\n",
       "      <td>2025-06-15</td>\n",
       "      <td>54611</td>\n",
       "      <td>31488</td>\n",
       "      <td>86099</td>\n",
       "      <td>16312</td>\n",
       "      <td>6144</td>\n",
       "      <td>22456</td>\n",
       "      <td>18174</td>\n",
       "      <td>27314</td>\n",
       "      <td>31488</td>\n",
       "      <td>58802</td>\n",
       "      <td>2244</td>\n",
       "      <td>4841</td>\n",
       "      <td>Sunday</td>\n",
       "      <td>June</td>\n",
       "      <td>2025</td>\n",
       "    </tr>\n",
       "  </tbody>\n",
       "</table>\n",
       "</div>"
      ],
      "text/plain": [
       "     Date of Census  Total Adults in Shelter  Total Children in Shelter  \\\n",
       "1563     2025-06-11                    54564                      31533   \n",
       "1564     2025-06-12                    54577                      31519   \n",
       "1565     2025-06-13                    54494                      31450   \n",
       "1566     2025-06-14                    54542                      31482   \n",
       "1567     2025-06-15                    54611                      31488   \n",
       "\n",
       "      Total Individuals in Shelter  Single Adult Men in Shelter  \\\n",
       "1563                         86097                        16299   \n",
       "1564                         86096                        16314   \n",
       "1565                         85944                        16223   \n",
       "1566                         86024                        16250   \n",
       "1567                         86099                        16312   \n",
       "\n",
       "      Single Adult Women in Shelter  Total Single Adults in Shelter  \\\n",
       "1563                           6106                           22405   \n",
       "1564                           6119                           22433   \n",
       "1565                           6116                           22339   \n",
       "1566                           6143                           22393   \n",
       "1567                           6144                           22456   \n",
       "\n",
       "      Families with Children in Shelter  \\\n",
       "1563                              18221   \n",
       "1564                              18207   \n",
       "1565                              18178   \n",
       "1566                              18175   \n",
       "1567                              18174   \n",
       "\n",
       "      Adults in Families with Children in Shelter  \\\n",
       "1563                                        27367   \n",
       "1564                                        27341   \n",
       "1565                                        27318   \n",
       "1566                                        27312   \n",
       "1567                                        27314   \n",
       "\n",
       "      Children in Families with Children in Shelter  \\\n",
       "1563                                          31533   \n",
       "1564                                          31519   \n",
       "1565                                          31450   \n",
       "1566                                          31482   \n",
       "1567                                          31488   \n",
       "\n",
       "      Total Individuals in Families with Children in Shelter   \\\n",
       "1563                                              58900         \n",
       "1564                                              58860         \n",
       "1565                                              58768         \n",
       "1566                                              58794         \n",
       "1567                                              58802         \n",
       "\n",
       "      Adult Families in Shelter  Individuals in Adult Families in Shelter  \\\n",
       "1563                       2219                                      4792   \n",
       "1564                       2226                                      4803   \n",
       "1565                       2243                                      4837   \n",
       "1566                       2242                                      4837   \n",
       "1567                       2244                                      4841   \n",
       "\n",
       "     Day of Week Month  Year  \n",
       "1563   Wednesday  June  2025  \n",
       "1564    Thursday  June  2025  \n",
       "1565      Friday  June  2025  \n",
       "1566    Saturday  June  2025  \n",
       "1567      Sunday  June  2025  "
      ]
     },
     "execution_count": 16,
     "metadata": {},
     "output_type": "execute_result"
    }
   ],
   "source": [
    "df.tail()"
   ]
  },
  {
   "cell_type": "markdown",
   "id": "0dcb0a10-7d12-46dc-97a1-cf3ad6bfcefd",
   "metadata": {},
   "source": [
    "It would be good to know how many male and female children reside in the shelter suystem as well as having a nonbinary option for gender and the ages of each individual in the system. "
   ]
  },
  {
   "cell_type": "code",
   "execution_count": 17,
   "id": "5bed9e02-a3f7-4203-b0ab-48b072d89910",
   "metadata": {
    "tags": []
   },
   "outputs": [
    {
     "data": {
      "text/plain": [
       "Date of Census                                             datetime64[ns]\n",
       "Total Adults in Shelter                                             int64\n",
       "Total Children in Shelter                                           int64\n",
       "Total Individuals in Shelter                                        int64\n",
       "Single Adult Men in Shelter                                         int64\n",
       "Single Adult Women in Shelter                                       int64\n",
       "Total Single Adults in Shelter                                      int64\n",
       "Families with Children in Shelter                                   int64\n",
       "Adults in Families with Children in Shelter                         int64\n",
       "Children in Families with Children in Shelter                       int64\n",
       "Total Individuals in Families with Children in Shelter              int64\n",
       "Adult Families in Shelter                                           int64\n",
       "Individuals in Adult Families in Shelter                            int64\n",
       "Day of Week                                                        object\n",
       "Month                                                              object\n",
       "Year                                                                int32\n",
       "dtype: object"
      ]
     },
     "execution_count": 17,
     "metadata": {},
     "output_type": "execute_result"
    }
   ],
   "source": [
    "df.dtypes"
   ]
  },
  {
   "cell_type": "markdown",
   "id": "9e1779f6-25e4-4ba3-8984-b7bd1946c6bc",
   "metadata": {},
   "source": [
    "## Exploratory Data"
   ]
  },
  {
   "cell_type": "code",
   "execution_count": 18,
   "id": "459ff3e2-19ab-489c-85dc-86f6e203a551",
   "metadata": {
    "tags": []
   },
   "outputs": [
    {
     "data": {
      "text/plain": [
       "Day of Week\n",
       "Wednesday    224\n",
       "Thursday     224\n",
       "Friday       224\n",
       "Saturday     224\n",
       "Sunday       224\n",
       "Monday       224\n",
       "Tuesday      224\n",
       "Name: count, dtype: int64"
      ]
     },
     "execution_count": 18,
     "metadata": {},
     "output_type": "execute_result"
    }
   ],
   "source": [
    "df['Day of Week'].value_counts()"
   ]
  },
  {
   "cell_type": "code",
   "execution_count": 19,
   "id": "82f0f994-f778-47bd-b834-218bb8efe5af",
   "metadata": {
    "tags": []
   },
   "outputs": [
    {
     "data": {
      "text/plain": [
       "Month\n",
       "March        155\n",
       "May          155\n",
       "April        150\n",
       "June         135\n",
       "July         124\n",
       "August       124\n",
       "October      124\n",
       "December     124\n",
       "January      124\n",
       "September    120\n",
       "November     120\n",
       "February     113\n",
       "Name: count, dtype: int64"
      ]
     },
     "execution_count": 19,
     "metadata": {},
     "output_type": "execute_result"
    }
   ],
   "source": [
    "df['Month'].value_counts()"
   ]
  },
  {
   "cell_type": "markdown",
   "id": "a08f316c-c6c7-429b-a119-004a7ccde2dd",
   "metadata": {},
   "source": [
    "Perhaps March and May have the highest values because more people entered the shelter system during these months."
   ]
  },
  {
   "cell_type": "code",
   "execution_count": 20,
   "id": "122238ee-91b5-4ebf-802e-196c5a687ed6",
   "metadata": {
    "tags": []
   },
   "outputs": [
    {
     "data": {
      "image/png": "[encoded data removed]",
      "text/plain": [
       "<Figure size 1200x800 with 1 Axes>"
      ]
     },
     "metadata": {},
     "output_type": "display_data"
    }
   ],
   "source": [
    "plt.figure(figsize = (12, 8))\n",
    "sns.countplot(data = df, x = 'Month')\n",
    "plt.title('Distribution of Months')\n",
    "plt.xlabel('Day of The Week')\n",
    "plt.ylabel('Count')\n",
    "plt.savefig('countplot1');"
   ]
  },
  {
   "cell_type": "code",
   "execution_count": 21,
   "id": "3a8e0822-d8ae-4d6a-bb69-6e9af736ee14",
   "metadata": {
    "tags": []
   },
   "outputs": [
    {
     "data": {
      "text/plain": [
       "Year\n",
       "2024    366\n",
       "2023    365\n",
       "2022    365\n",
       "2021    306\n",
       "2025    166\n",
       "Name: count, dtype: int64"
      ]
     },
     "execution_count": 21,
     "metadata": {},
     "output_type": "execute_result"
    }
   ],
   "source": [
    "df['Year'].value_counts()"
   ]
  },
  {
   "cell_type": "markdown",
   "id": "9e3a5820-b7e5-4a37-a2f9-8563ca45705d",
   "metadata": {},
   "source": [
    "20225 having only 166 values is understandble given we are only half way through the year."
   ]
  },
  {
   "cell_type": "code",
   "execution_count": 22,
   "id": "8a602556-b0d6-49ea-9208-6cfe9bb5b90a",
   "metadata": {
    "tags": []
   },
   "outputs": [
    {
     "data": {
      "image/png": "[encoded data removed]",
      "text/plain": [
       "<Figure size 640x480 with 1 Axes>"
      ]
     },
     "metadata": {},
     "output_type": "display_data"
    }
   ],
   "source": [
    "sns.countplot(data = df, x = 'Year')\n",
    "plt.title('Distribution of Years')\n",
    "plt.xlabel('Years')\n",
    "plt.ylabel('Count')\n",
    "plt.savefig('countplot2');"
   ]
  },
  {
   "cell_type": "markdown",
   "id": "ee5b8ef8-443f-411c-9797-a6eabb00180c",
   "metadata": {
    "tags": []
   },
   "source": [
    "Years 2022, 2023, 2024 have the same distribution at 366.  2021 hadthe second highest distribution of 306 and 2025 the lowest at 166."
   ]
  },
  {
   "cell_type": "code",
   "execution_count": 23,
   "id": "0eb6abdb-52ce-43ae-b082-732b0cd2bf54",
   "metadata": {
    "tags": []
   },
   "outputs": [],
   "source": [
    "# Lets take a look at the average for each column"
   ]
  },
  {
   "cell_type": "code",
   "execution_count": 24,
   "id": "67654522-777c-4f81-8d41-3817d20564f2",
   "metadata": {
    "tags": []
   },
   "outputs": [
    {
     "data": {
      "text/plain": [
       "('The average for total adults in the shelter system is', 44903.05931122449)"
      ]
     },
     "execution_count": 24,
     "metadata": {},
     "output_type": "execute_result"
    }
   ],
   "source": [
    "\"The average for total adults in the shelter system is\", df['Total Adults in Shelter'].mean()"
   ]
  },
  {
   "cell_type": "code",
   "execution_count": 26,
   "id": "42b10887-59e6-4343-8ae5-e975b4f6f834",
   "metadata": {
    "tags": []
   },
   "outputs": [
    {
     "data": {
      "text/plain": [
       "('The average for total children in the shelter system is', 24382.614158163266)"
      ]
     },
     "execution_count": 26,
     "metadata": {},
     "output_type": "execute_result"
    }
   ],
   "source": [
    "\"The average for total children in the shelter system is\", df['Total Children in Shelter'].mean()"
   ]
  },
  {
   "cell_type": "code",
   "execution_count": 27,
   "id": "d981ef01-ae6c-4e39-8584-d71097fe6aee",
   "metadata": {
    "tags": []
   },
   "outputs": [
    {
     "data": {
      "text/plain": [
       "('The average for total individuals in the shelter system is',\n",
       " 69285.67346938775)"
      ]
     },
     "execution_count": 27,
     "metadata": {},
     "output_type": "execute_result"
    }
   ],
   "source": [
    "\"The average for total individuals in the shelter system is\", df['Total Individuals in Shelter'].mean()"
   ]
  },
  {
   "cell_type": "code",
   "execution_count": 28,
   "id": "7b71e4d1-3aa1-4e7f-85d0-d7048358e16a",
   "metadata": {
    "tags": []
   },
   "outputs": [
    {
     "data": {
      "text/plain": [
       "('The average for single adult men in the shelter system is',\n",
       " 14775.533163265307)"
      ]
     },
     "execution_count": 28,
     "metadata": {},
     "output_type": "execute_result"
    }
   ],
   "source": [
    "\"The average for single adult men in the shelter system is\", df['Single Adult Men in Shelter'].mean()"
   ]
  },
  {
   "cell_type": "code",
   "execution_count": 29,
   "id": "dbec75f1-b66a-4aa1-a4b4-bc99520e77a4",
   "metadata": {
    "tags": []
   },
   "outputs": [
    {
     "data": {
      "text/plain": [
       "('The average for single adult women in the shelter system is',\n",
       " 4686.292729591837)"
      ]
     },
     "execution_count": 29,
     "metadata": {},
     "output_type": "execute_result"
    }
   ],
   "source": [
    "\"The average for single adult women in the shelter system is\", df['Single Adult Women in Shelter'].mean()"
   ]
  },
  {
   "cell_type": "code",
   "execution_count": 30,
   "id": "669facc5-fa01-48d1-a963-fce26fa328d2",
   "metadata": {
    "tags": []
   },
   "outputs": [
    {
     "data": {
      "text/plain": [
       "('The average for total single adults in the shelter system is',\n",
       " 19461.82589285714)"
      ]
     },
     "execution_count": 30,
     "metadata": {},
     "output_type": "execute_result"
    }
   ],
   "source": [
    "\"The average for total single adults in the shelter system is\", df['Total Single Adults in Shelter'].mean()"
   ]
  },
  {
   "cell_type": "code",
   "execution_count": 31,
   "id": "bcbbc3a6-33fa-42cd-98df-8cf68229af71",
   "metadata": {
    "tags": []
   },
   "outputs": [
    {
     "data": {
      "text/plain": [
       "('The average number of Families with Children in the shelter system is',\n",
       " 14199.456632653062)"
      ]
     },
     "execution_count": 31,
     "metadata": {},
     "output_type": "execute_result"
    }
   ],
   "source": [
    "\"The average number of Families with Children in the shelter system is\", df['Families with Children in Shelter'].mean()"
   ]
  },
  {
   "cell_type": "code",
   "execution_count": 32,
   "id": "43c5f82c-93af-40eb-956d-ba7953d1e5fc",
   "metadata": {
    "tags": []
   },
   "outputs": [
    {
     "data": {
      "text/plain": [
       "('The average number of Adults in Families with Children in the Shelter system is',\n",
       " 21184.005739795917)"
      ]
     },
     "execution_count": 32,
     "metadata": {},
     "output_type": "execute_result"
    }
   ],
   "source": [
    "\"The average number of Adults in Families with Children in the Shelter system is\", df['Adults in Families with Children in Shelter'].mean()"
   ]
  },
  {
   "cell_type": "code",
   "execution_count": 33,
   "id": "b74d48a2-87c5-46d6-8ae5-2ed0b1f409d3",
   "metadata": {
    "tags": []
   },
   "outputs": [
    {
     "data": {
      "text/plain": [
       "('The average number of Children in Families with Children in the Shelter system is',\n",
       " 24382.614158163266)"
      ]
     },
     "execution_count": 33,
     "metadata": {},
     "output_type": "execute_result"
    }
   ],
   "source": [
    "\"The average number of Children in Families with Children in the Shelter system is\", df['Children in Families with Children in Shelter'].mean()"
   ]
  },
  {
   "cell_type": "code",
   "execution_count": 34,
   "id": "cea98e10-93d1-41f1-8a32-74536a701faf",
   "metadata": {
    "tags": []
   },
   "outputs": [
    {
     "data": {
      "text/plain": [
       "('The average number of Adult Families in the Shelter system is',\n",
       " 2002.765943877551)"
      ]
     },
     "execution_count": 34,
     "metadata": {},
     "output_type": "execute_result"
    }
   ],
   "source": [
    "\"The average number of Adult Families in the Shelter system is\", df['Adult Families in Shelter'].mean()"
   ]
  },
  {
   "cell_type": "code",
   "execution_count": 35,
   "id": "dca50e3f-4122-4709-83ec-b8691b0dfe24",
   "metadata": {
    "tags": []
   },
   "outputs": [
    {
     "data": {
      "text/plain": [
       "('The average number of Individuals in Adult Families in the Shelter system is',\n",
       " 4257.227678571428)"
      ]
     },
     "execution_count": 35,
     "metadata": {},
     "output_type": "execute_result"
    }
   ],
   "source": [
    "\"The average number of Individuals in Adult Families in the Shelter system is\", df['Individuals in Adult Families in Shelter'].mean()"
   ]
  },
  {
   "cell_type": "code",
   "execution_count": 60,
   "id": "d2ca484a-c7ac-4b12-8fa8-6e8cfd99b313",
   "metadata": {
    "tags": []
   },
   "outputs": [
    {
     "data": {
      "text/plain": [
       "Month\n",
       "April        44431.600000\n",
       "August       43135.685484\n",
       "December     46235.572581\n",
       "February     46900.274336\n",
       "January      46823.225806\n",
       "July         42662.387097\n",
       "June         44138.851852\n",
       "March        44200.374194\n",
       "May          45151.593548\n",
       "November     46178.491667\n",
       "October      45542.967742\n",
       "September    43901.891667\n",
       "Name: Total Adults in Shelter, dtype: float64"
      ]
     },
     "execution_count": 60,
     "metadata": {},
     "output_type": "execute_result"
    }
   ],
   "source": [
    "df.groupby('Month')['Total Adults in Shelter'].mean()"
   ]
  },
  {
   "cell_type": "code",
   "execution_count": 59,
   "id": "041ae77b-f66e-42c8-a226-4702faceb345",
   "metadata": {},
   "outputs": [
    {
     "data": {
      "image/png": "[encoded data removed]",
      "text/plain": [
       "<Figure size 1200x800 with 1 Axes>"
      ]
     },
     "metadata": {},
     "output_type": "display_data"
    }
   ],
   "source": [
    "plt.figure(figsize = (12, 8))\n",
    "sns.barplot(data = df, \n",
    "              y = 'Total Adults in Shelter',\n",
    "              x = 'Month')\n",
    "plt.title('Total Number of Adults in Shelter Sytem Throughout The Months')\n",
    "plt.xlabel('Months')\n",
    "plt.ylabel('Total Adults in Shelter')\n",
    "plt.savefig('barplot1');"
   ]
  },
  {
   "cell_type": "code",
   "execution_count": null,
   "id": "08e4673c-d400-49a5-9b18-ed90899d05d7",
   "metadata": {},
   "outputs": [],
   "source": [
    "df.groupby('Year')['Total Adults in Shelter'"
   ]
  },
  {
   "cell_type": "code",
   "execution_count": 46,
   "id": "013366c5-80f2-4f37-ae82-a80fcd074a82",
   "metadata": {
    "tags": []
   },
   "outputs": [
    {
     "data": {
      "image/png": "[encoded data removed]",
      "text/plain": [
       "<Figure size 640x480 with 1 Axes>"
      ]
     },
     "metadata": {},
     "output_type": "display_data"
    }
   ],
   "source": [
    "\n",
    "sns.barplot(data = df, \n",
    "              y = 'Total Adults in Shelter',\n",
    "              x = 'Year')\n",
    "plt.title('Total Number of Adults in Shelter Sytem Over The Years')\n",
    "plt.xlabel('Years')\n",
    "plt.ylabel('Total Adults in Shelter')\n",
    "plt.savefig('barplot2');"
   ]
  },
  {
   "cell_type": "code",
   "execution_count": null,
   "id": "c7a612f1-a9c8-414b-b7c8-556b480e1d24",
   "metadata": {},
   "outputs": [],
   "source": [
    "> It appears there has been an uptick in adults in the shelter system from 2023 to 2025. "
   ]
  }
 ],
 "metadata": {
  "kernelspec": {
   "display_name": "Python 3 (ipykernel)",
   "language": "python",
   "name": "python3"
  },
  "language_info": {
   "codemirror_mode": {
    "name": "ipython",
    "version": 3
   },
   "file_extension": ".py",
   "mimetype": "text/x-python",
   "name": "python",
   "nbconvert_exporter": "python",
   "pygments_lexer": "ipython3",
   "version": "3.11.5"
  }
 },
 "nbformat": 4,
 "nbformat_minor": 5
}
